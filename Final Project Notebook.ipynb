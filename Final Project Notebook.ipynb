{
 "cells": [
  {
   "cell_type": "markdown",
   "id": "cb39f9de",
   "metadata": {},
   "source": [
    "<p><b>Final Project COGS18 </b></p>\n",
    "\n",
    "A majority of my friends that are students has moved away from home. They have witnessed that it can be overwhelming at first, but that it too can be really nice to be able to make your own rules and have some distance from your beloved family. However, once in a while, the homesickness can be extremely noticable, making it hard to focus on your studies (and God forbid - your final project in COGS18!). \n",
    "\n",
    "With my final project, I've tried to make an application that helps students (anyone really!) to cure homesickness. The project is a chatbot that lets the user have a conversation with a member of \"their\" family. First of all, the user gets to create a character to play as, and when that is done, they get to pick a family member to talk to. Depending on the age of the player's character, they can either talk to a parent or a sibling if they're under 18, or parents, siblings, partners or children if they're over 18. Depending on the family member picked, the chatbot will have different types of responses.\n",
    "To make the interactions easier and more intuitive, the chatbot has a user interface made in <b>Kivy</b>. \n",
    "\n",
    "<p><b>If I had more time... </b></p>\n",
    "\n",
    "- Error handling so that the application doesn't crash when user input is the wrong type, for example if\n",
    "  a string is the input instead of an int as the age in create_person.\n",
    "  \n",
    "- Making it possible to press the enter key to send a message in the chat instead of pressing the \"Send\"-button\n",
    "\n",
    "- Nicer interface where everything lines up perfectly\n",
    "\n",
    "- Window that adapt to size of screen\n",
    "\n",
    "- Make player's name and family member different colors in chatbox\n",
    "\n",
    "- Initially, my plan was to be more ambitious, but I realised I didn't have enough time. The functionality\n",
    "  I would add is:\n",
    "    - Create a family\n",
    "    <p><p/>\n",
    "    - Create several people and add them to the family\n",
    "    <p><p/>\n",
    "    - Assign every family member relationships with the other members\n",
    "    <p><p/>\n",
    "    - Pick the members in the dropdown menu, not just the roles like it is now\n",
    "    \n",
    "<p><b>My prior experience</b></p>\n",
    "\n",
    "Before this course, I had zero experience in Python. However, I have some coding experience in Java and C# which helped a lot, especially for the final project. Still, this is the first time I work on a project all by myself. Even though I see a lot of room for improvement in my project I'm proud of myself, because I always thought I needed a team to be able to create something.\n",
    "I worked with interfaces before, in javafx and Windows forms, aswell as web services where HTML and CSS were used. Kivy was new to me though, and it was much more complicated than I thought, as I'm used to being able to drag-and-drop widgets. This was not possible here which was challenging but I definetly learned a lot!\n",
    "\n",
    "<p><b>GitHub repository:</b></p>\n",
    "\n",
    "https://github.com/clarasundstrom/FinalProjectCOGS18\n"
   ]
  }
 ],
 "metadata": {
  "kernelspec": {
   "display_name": "Python 3 (ipykernel)",
   "language": "python",
   "name": "python3"
  },
  "language_info": {
   "codemirror_mode": {
    "name": "ipython",
    "version": 3
   },
   "file_extension": ".py",
   "mimetype": "text/x-python",
   "name": "python",
   "nbconvert_exporter": "python",
   "pygments_lexer": "ipython3",
   "version": "3.9.5"
  }
 },
 "nbformat": 4,
 "nbformat_minor": 5
}
